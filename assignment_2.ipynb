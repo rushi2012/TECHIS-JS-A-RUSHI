{
  "nbformat": 4,
  "nbformat_minor": 0,
  "metadata": {
    "colab": {
      "name": "assignment 2.ipynb",
      "provenance": [],
      "authorship_tag": "ABX9TyOEQxaTo8pm3KW24BHlMuOG",
      "include_colab_link": true
    },
    "kernelspec": {
      "name": "python3",
      "display_name": "Python 3"
    },
    "language_info": {
      "name": "python"
    }
  },
  "cells": [
    {
      "cell_type": "markdown",
      "metadata": {
        "id": "view-in-github",
        "colab_type": "text"
      },
      "source": [
        "<a href=\"https://colab.research.google.com/github/rushi2012/TECHIS-JS-A-RUSHI/blob/main/assignment_2.ipynb\" target=\"_parent\"><img src=\"https://colab.research.google.com/assets/colab-badge.svg\" alt=\"Open In Colab\"/></a>"
      ]
    },
    {
      "cell_type": "code",
      "execution_count": null,
      "metadata": {
        "colab": {
          "base_uri": "https://localhost:8080/"
        },
        "id": "gfU42KSjiPMV",
        "outputId": "7cb81f32-6ce1-435a-8b52-36fb3720194e"
      },
      "outputs": [
        {
          "output_type": "stream",
          "name": "stdout",
          "text": [
            "5\n",
            "2\n",
            "Task to perform_\n",
            "3\n"
          ]
        }
      ],
      "source": [
        "a = int(input())\n",
        "b = int(input())\n",
        "x = input('Task to perform')\n",
        "\n",
        "if x =='+' :\n",
        "  print(a + b) \n",
        "elif x== '_' :\n",
        "  print(a-b)\n",
        "#print(a*b)\n",
        "#print(a/b)\n",
        "#print(a//b)\n",
        "\n",
        "#y = (a+b)**2\n",
        "# print(y)\n"
      ]
    },
    {
      "cell_type": "code",
      "source": [
        "x =13\n",
        "y =10\n",
        "\n",
        "temp = x\n",
        "x = y\n",
        "y = temp\n",
        "\n",
        "print(x)\n",
        "print(y)"
      ],
      "metadata": {
        "colab": {
          "base_uri": "https://localhost:8080/"
        },
        "id": "_cS_Qsc_pRkl",
        "outputId": "f6bfe38d-8cf8-4267-a421-421d4e2ba15b"
      },
      "execution_count": null,
      "outputs": [
        {
          "output_type": "stream",
          "name": "stdout",
          "text": [
            "10\n",
            "13\n"
          ]
        }
      ]
    },
    {
      "cell_type": "code",
      "source": [
        "n=int(input(\"Enter number:\"))\n",
        "temp=n\n",
        "rev=0\n",
        "while(n>0):\n",
        "    dig=n%10\n",
        "    rev=rev*10+dig\n",
        "    n=n//10\n",
        "if(temp==rev):\n",
        "    print(\"The number is a palindrome!\")\n",
        "else:\n",
        "    print(\"The number isn't a palindrome!\")"
      ],
      "metadata": {
        "id": "VGttD5_JrBvS",
        "colab": {
          "base_uri": "https://localhost:8080/"
        },
        "outputId": "af59d1e7-0bdd-4c13-d672-e80860a06a4d"
      },
      "execution_count": null,
      "outputs": [
        {
          "output_type": "stream",
          "name": "stdout",
          "text": [
            "Enter number:123454321\n",
            "The number is a palindrome!\n"
          ]
        }
      ]
    }
  ]
}