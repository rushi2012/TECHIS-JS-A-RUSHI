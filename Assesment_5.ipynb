{
  "nbformat": 4,
  "nbformat_minor": 0,
  "metadata": {
    "colab": {
      "name": "Assesment_5.ipynb",
      "provenance": [],
      "authorship_tag": "ABX9TyNic35B0/GHfYnfP9xBnCqu",
      "include_colab_link": true
    },
    "kernelspec": {
      "name": "python3",
      "display_name": "Python 3"
    },
    "language_info": {
      "name": "python"
    }
  },
  "cells": [
    {
      "cell_type": "markdown",
      "metadata": {
        "id": "view-in-github",
        "colab_type": "text"
      },
      "source": [
        "<a href=\"https://colab.research.google.com/github/rushi2012/TECHIS-JS-A-RUSHI/blob/main/Assesment_5.ipynb\" target=\"_parent\"><img src=\"https://colab.research.google.com/assets/colab-badge.svg\" alt=\"Open In Colab\"/></a>"
      ]
    },
    {
      "cell_type": "code",
      "source": [
        "#Full name capitalize \n",
        "first = input(\"First Name:\")\n",
        "last = input(\"Last Name:\")\n",
        "fullName = first.capitalize() + \" \" + last.capitalize()\n",
        "print(\"My Full Name is \" + fullName)"
      ],
      "metadata": {
        "colab": {
          "base_uri": "https://localhost:8080/"
        },
        "id": "KAzX4K1oRDUV",
        "outputId": "6ed8b05e-9399-4120-a446-d25ba57b1c10"
      },
      "execution_count": 56,
      "outputs": [
        {
          "output_type": "stream",
          "name": "stdout",
          "text": [
            "First Name:Rushi\n",
            "Last Name:patel\n",
            "My Full Name is Rushi Patel\n"
          ]
        }
      ]
    },
    {
      "cell_type": "code",
      "source": [
        "# Score-Runnerup\n",
        "n = int(input())\n",
        "arr = map(int, input().split())\n",
        "print(sorted(list(set(arr)))[-2])"
      ],
      "metadata": {
        "colab": {
          "base_uri": "https://localhost:8080/"
        },
        "id": "uNwdlJeXR2My",
        "outputId": "01b81efe-ab1b-41f3-ee71-fbbf6015a31b"
      },
      "execution_count": 36,
      "outputs": [
        {
          "output_type": "stream",
          "name": "stdout",
          "text": [
            "4\n",
            "2 3 4 5\n",
            "4\n"
          ]
        }
      ]
    },
    {
      "cell_type": "code",
      "source": [
        "#\n",
        "#m,n = map(int, input().split())\n",
        "#s1, s2 = map(set(m,n).split())\n",
        "s1 = set(input())\n",
        "s2 = set(input())\n",
        "s3 = s1.symmetric_difference(s2)\n",
        "print(sorted(s3))\n",
        "\n"
      ],
      "metadata": {
        "colab": {
          "base_uri": "https://localhost:8080/"
        },
        "id": "Fn832gkCVU94",
        "outputId": "4e28aaff-501a-4d42-f0d5-c7c518c3c70d"
      },
      "execution_count": 51,
      "outputs": [
        {
          "output_type": "stream",
          "name": "stdout",
          "text": [
            "2 3 4 5\n",
            "4 5 6 7\n",
            "['2', '3', '6', '7']\n"
          ]
        }
      ]
    }
  ]
}