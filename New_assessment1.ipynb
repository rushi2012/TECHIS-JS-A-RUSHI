{
  "nbformat": 4,
  "nbformat_minor": 0,
  "metadata": {
    "colab": {
      "name": "New_assessment1.ipynb",
      "provenance": [],
      "authorship_tag": "ABX9TyPVnvXmfvrzYQhd+9Umgswz",
      "include_colab_link": true
    },
    "kernelspec": {
      "name": "python3",
      "display_name": "Python 3"
    },
    "language_info": {
      "name": "python"
    }
  },
  "cells": [
    {
      "cell_type": "markdown",
      "metadata": {
        "id": "view-in-github",
        "colab_type": "text"
      },
      "source": [
        "<a href=\"https://colab.research.google.com/github/rushi2012/TECHIS-JS-A-RUSHI/blob/main/New_assessment1.ipynb\" target=\"_parent\"><img src=\"https://colab.research.google.com/assets/colab-badge.svg\" alt=\"Open In Colab\"/></a>"
      ]
    },
    {
      "cell_type": "code",
      "source": [
        "class Node:\n",
        "  def __init__(self, data):\n",
        "    self.data = data\n",
        "    self.next = None\n",
        "\n",
        "class Linkedlist:\n",
        "  def __init__(self):\n",
        "    self.head = None\n",
        "\n",
        "  def append(self, new_data):\n",
        "    new_node = Node(new_data)\n",
        "    new_node.next = self.head\n",
        "    self.head = new_node\n",
        "  \n",
        "  def delete_node (self, rdata):\n",
        "    \n",
        "    if self.head is None:\n",
        "      return\n",
        "    if rdata == 0:\n",
        "      self.head = self.head.next\n",
        "      return self.head\n",
        "    else:\n",
        "      temp = self.head\n",
        "      c = 1\n",
        "      while temp != None and c < rdata:\n",
        "        temp = temp.next\n",
        "        c += 1\n",
        "      temp.next = temp.next.next\n",
        "    return self.head\n",
        "\n",
        "    '''i = 0\n",
        "    c =self.head\n",
        "    t = self.head\n",
        "    a = self.head\n",
        "    while c is not None:\n",
        "      if i ==rdata:\n",
        "        t = c.next\n",
        "        break\n",
        "      a =c \n",
        "      c = c.next\n",
        "      i += 1\n",
        "    a.next = t\n",
        "    return a'''\n",
        "  def print_list(self):\n",
        "    t = self.head\n",
        "    while(t):\n",
        "      print('%d' %(t.data))\n",
        "      t = t.next\n",
        "\n",
        "\n",
        "llist = Linkedlist()\n",
        "llist.append(1)\n",
        "llist.append(9)\n",
        "llist.append(3)\n",
        "llist.append(4)\n",
        "llist.append(7)\n",
        "llist.append(6)\n",
        "llist.print_list()\n",
        "llist.delete_node(1)\n",
        "llist.print_list()"
      ],
      "metadata": {
        "colab": {
          "base_uri": "https://localhost:8080/"
        },
        "id": "HM00oTgJ40o4",
        "outputId": "ccce4f4f-0fac-4a61-c7dc-9c5f415f3a2a"
      },
      "execution_count": 6,
      "outputs": [
        {
          "output_type": "stream",
          "name": "stdout",
          "text": [
            "6\n",
            "7\n",
            "4\n",
            "3\n",
            "9\n",
            "1\n",
            "6\n",
            "4\n",
            "3\n",
            "9\n",
            "1\n"
          ]
        }
      ]
    },
    {
      "cell_type": "code",
      "source": [
        "class Node:\n",
        "  def __init__(self, data):\n",
        "    self.data = data\n",
        "    self.next = None\n",
        "\n",
        "class Linkedlist:\n",
        "  def __init__(self):\n",
        "    self.head = None\n",
        "  \n",
        "  def append(self, new_data):\n",
        "    new_node = Node(new_data)\n",
        "    new_node.next = self.head\n",
        "    self.head = new_node\n",
        "  \n",
        "  def sortList(self):\n",
        "    current = self.head\n",
        "    index = None\n",
        "    if self.head is None:\n",
        "      return\n",
        "    else:\n",
        "      while(current != None):  \n",
        "      #Node index will point to node next to current  \n",
        "        index = current.next   \n",
        "        while(index != None):  \n",
        "        #If current node's data is greater than index's node data, swap the data between them  \n",
        "          if(current.data > index.data):  \n",
        "            temp = current.data \n",
        "            current.data = index.data  \n",
        "            index.data = temp  \n",
        "          index = index.next \n",
        "        current = current.next \n",
        "\n",
        "  def display(self):  \n",
        "        #Node current will point to head  \n",
        "        current = self.head  \n",
        "        if(self.head == None):  \n",
        "            print(\"List is empty\")  \n",
        "            return \n",
        "        while(current != None):  \n",
        "            #Prints each node by incrementing pointer  \n",
        "            print(current.data)  \n",
        "            current = current.next;  \n",
        "        print (\"\") \n",
        "   \n",
        "llist = Linkedlist()\n",
        "llist.append(1)\n",
        "llist.append(9)\n",
        "llist.append(3)\n",
        "llist.append(4)\n",
        "llist.append(7)\n",
        "llist.append(6)\n",
        "llist.display()\n",
        "llist.sortList()\n",
        "print(\"Sorted list: \");  \n",
        "llist.display();  \n"
      ],
      "metadata": {
        "colab": {
          "base_uri": "https://localhost:8080/"
        },
        "id": "kn-PmXQxux7Y",
        "outputId": "d6d019d8-42da-442d-e5ac-bf6e930ce107"
      },
      "execution_count": 14,
      "outputs": [
        {
          "output_type": "stream",
          "name": "stdout",
          "text": [
            "6\n",
            "7\n",
            "4\n",
            "3\n",
            "9\n",
            "1\n",
            "\n",
            "Sorted list: \n",
            "1\n",
            "3\n",
            "4\n",
            "6\n",
            "7\n",
            "9\n",
            "\n"
          ]
        }
      ]
    }
  ]
}